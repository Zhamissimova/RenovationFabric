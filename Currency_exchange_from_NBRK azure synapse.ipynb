{
  "nbformat": 4,
  "nbformat_minor": 2,
  "metadata": {
    "kernelspec": {
      "name": "synapse_pyspark",
      "display_name": "Synapse PySpark"
    },
    "language_info": {
      "name": "python"
    },
    "description": null,
    "save_output": true,
    "synapse_widget": {
      "version": "0.1",
      "state": {}
    }
  },
  "cells": [
    {
      "cell_type": "code",
      "execution_count": 1,
      "outputs": [
        {
          "output_type": "display_data",
          "data": {
            "application/vnd.livy.statement-meta+json": {
              "spark_pool": "SparkPool",
              "session_id": "16",
              "statement_id": 2,
              "state": "finished",
              "livy_statement_state": "available",
              "queued_time": "2023-08-24T16:22:07.1460857Z",
              "session_start_time": "2023-08-24T16:22:07.2697743Z",
              "execution_start_time": "2023-08-24T16:25:47.3874768Z",
              "execution_finish_time": "2023-08-24T16:25:58.387378Z",
              "spark_jobs": null,
              "parent_msg_id": "584bb2aa-a66c-4418-b64a-fb70edcd27bd"
            },
            "text/plain": "StatementMeta(SparkPool, 16, 2, Finished, Available)"
          },
          "metadata": {}
        }
      ],
      "metadata": {
        "id": "IvQ5klWri0Nq"
      },
      "source": [
        "import requests\r\n",
        "import pandas as pd\r\n",
        "import os"
      ]
    },
    {
      "cell_type": "code",
      "execution_count": 26,
      "outputs": [
        {
          "output_type": "display_data",
          "data": {
            "application/vnd.livy.statement-meta+json": {
              "spark_pool": "SparkPool",
              "session_id": "16",
              "statement_id": 27,
              "state": "finished",
              "livy_statement_state": "available",
              "queued_time": "2023-08-24T16:57:33.4619221Z",
              "session_start_time": null,
              "execution_start_time": "2023-08-24T16:57:33.6831098Z",
              "execution_finish_time": "2023-08-24T16:57:34.2881616Z",
              "spark_jobs": null,
              "parent_msg_id": "0ba5bb2b-16b4-486d-9a5b-40359b23e96e"
            },
            "text/plain": "StatementMeta(SparkPool, 16, 27, Finished, Available)"
          },
          "metadata": {}
        }
      ],
      "metadata": {
        "jupyter": {
          "source_hidden": false,
          "outputs_hidden": false
        },
        "nteract": {
          "transient": {
            "deleting": false
          }
        }
      },
      "source": [
        "df = pd.read_excel('abfs://crrenovationraw@dlsrenovation.dfs.core.windows.net/currency_exchange.xlsx', \r\n",
        "storage_options={'account_key': 'use yours'})"
      ]
    },
    {
      "cell_type": "code",
      "execution_count": 16,
      "outputs": [
        {
          "output_type": "display_data",
          "data": {
            "application/vnd.livy.statement-meta+json": {
              "spark_pool": "SparkPool",
              "session_id": "16",
              "statement_id": 17,
              "state": "finished",
              "livy_statement_state": "available",
              "queued_time": "2023-08-24T16:48:11.5832255Z",
              "session_start_time": null,
              "execution_start_time": "2023-08-24T16:48:11.7913949Z",
              "execution_finish_time": "2023-08-24T16:48:11.9722521Z",
              "spark_jobs": null,
              "parent_msg_id": "5d359754-b9b8-4909-9fba-b07375187a9b"
            },
            "text/plain": "StatementMeta(SparkPool, 16, 17, Finished, Available)"
          },
          "metadata": {}
        }
      ],
      "metadata": {
        "jupyter": {
          "source_hidden": false,
          "outputs_hidden": false
        },
        "nteract": {
          "transient": {
            "deleting": false
          }
        }
      },
      "source": [
        "nextday = pd.to_datetime(df.iloc[df.tail(1).index[0],0], format=\"%d.%m.%Y\")+ pd.DateOffset(1)\r\n",
        "strnextday=str(nextday)[:10]\r\n",
        "strend=str(pd.to_datetime('today'))[:10]"
      ]
    },
    {
      "cell_type": "code",
      "execution_count": 17,
      "outputs": [
        {
          "output_type": "display_data",
          "data": {
            "application/vnd.livy.statement-meta+json": {
              "spark_pool": "SparkPool",
              "session_id": "16",
              "statement_id": 18,
              "state": "finished",
              "livy_statement_state": "available",
              "queued_time": "2023-08-24T16:48:16.2931964Z",
              "session_start_time": null,
              "execution_start_time": "2023-08-24T16:48:16.4791591Z",
              "execution_finish_time": "2023-08-24T16:48:16.6903296Z",
              "spark_jobs": null,
              "parent_msg_id": "cda7a934-7618-4fe2-965c-7a0f541f7dad"
            },
            "text/plain": "StatementMeta(SparkPool, 16, 18, Finished, Available)"
          },
          "metadata": {}
        }
      ],
      "metadata": {
        "jupyter": {
          "source_hidden": false,
          "outputs_hidden": false
        },
        "nteract": {
          "transient": {
            "deleting": false
          }
        }
      },
      "source": [
        "new_url = 'https://nationalbank.kz/ru/exchangerates/ezhednevnye-oficialnye-rynochnye-kursy-valyut/excel?rates%5B%5D=5&rates%5B%5D=6&rates%5B%5D=16&beginDate='+strnextday+'&endDate='+strend"
      ]
    },
    {
      "cell_type": "code",
      "execution_count": 18,
      "outputs": [
        {
          "output_type": "display_data",
          "data": {
            "application/vnd.livy.statement-meta+json": {
              "spark_pool": "SparkPool",
              "session_id": "16",
              "statement_id": 19,
              "state": "finished",
              "livy_statement_state": "available",
              "queued_time": "2023-08-24T16:48:19.5706904Z",
              "session_start_time": null,
              "execution_start_time": "2023-08-24T16:48:19.7760395Z",
              "execution_finish_time": "2023-08-24T16:48:20.9800143Z",
              "spark_jobs": null,
              "parent_msg_id": "ec43226d-86e1-4722-a348-42c57f19002e"
            },
            "text/plain": "StatementMeta(SparkPool, 16, 19, Finished, Available)"
          },
          "metadata": {}
        }
      ],
      "metadata": {
        "jupyter": {
          "source_hidden": false,
          "outputs_hidden": false
        },
        "nteract": {
          "transient": {
            "deleting": false
          }
        }
      },
      "source": [
        "response = requests.request(\"GET\", new_url)\r\n",
        "with open('currency_exchange_2.xlsx', 'wb') as f:\r\n",
        "    f.write(response.content)"
      ]
    },
    {
      "cell_type": "code",
      "execution_count": 19,
      "outputs": [
        {
          "output_type": "display_data",
          "data": {
            "application/vnd.livy.statement-meta+json": {
              "spark_pool": "SparkPool",
              "session_id": "16",
              "statement_id": 20,
              "state": "finished",
              "livy_statement_state": "available",
              "queued_time": "2023-08-24T16:48:34.8948084Z",
              "session_start_time": null,
              "execution_start_time": "2023-08-24T16:48:35.0848081Z",
              "execution_finish_time": "2023-08-24T16:48:35.3154502Z",
              "spark_jobs": null,
              "parent_msg_id": "987d03f1-7a38-4a99-8aca-8752ef75eece"
            },
            "text/plain": "StatementMeta(SparkPool, 16, 20, Finished, Available)"
          },
          "metadata": {}
        }
      ],
      "metadata": {
        "jupyter": {
          "source_hidden": false,
          "outputs_hidden": false
        },
        "nteract": {
          "transient": {
            "deleting": false
          }
        }
      },
      "source": [
        "df_new = pd.read_excel('currency_exchange_2.xlsx')"
      ]
    },
    {
      "cell_type": "code",
      "execution_count": 25,
      "outputs": [
        {
          "output_type": "display_data",
          "data": {
            "application/vnd.livy.statement-meta+json": {
              "spark_pool": "SparkPool",
              "session_id": "16",
              "statement_id": 26,
              "state": "finished",
              "livy_statement_state": "available",
              "queued_time": "2023-08-24T16:55:57.2223152Z",
              "session_start_time": null,
              "execution_start_time": "2023-08-24T16:55:57.4094043Z",
              "execution_finish_time": "2023-08-24T16:55:58.0961843Z",
              "spark_jobs": null,
              "parent_msg_id": "3a161e14-b836-4277-9bef-590380e4200b"
            },
            "text/plain": "StatementMeta(SparkPool, 16, 26, Finished, Available)"
          },
          "metadata": {}
        }
      ],
      "metadata": {
        "jupyter": {
          "source_hidden": false,
          "outputs_hidden": false
        },
        "nteract": {
          "transient": {
            "deleting": false
          }
        }
      },
      "source": [
        "pd.concat([df, df_new], ignore_index=True).to_excel('abfs://crrenovationraw@dlsrenovation.dfs.core.windows.net/currency_exchange.xlsx', \r\n",
        "index=False, storage_options={'account_key': 'use yours'})"
      ]
    },
    {
      "cell_type": "code",
      "execution_count": null,
      "outputs": [
        {
          "output_type": "display_data",
          "data": {
            "application/vnd.livy.statement-meta+json": {
              "spark_pool": null,
              "session_id": null,
              "statement_id": null,
              "state": "cancelled",
              "livy_statement_state": null,
              "queued_time": "2023-08-24T16:22:07.1620838Z",
              "session_start_time": null,
              "execution_start_time": null,
              "execution_finish_time": "2023-08-24T16:26:07.6350973Z",
              "spark_jobs": null,
              "parent_msg_id": "410f52d2-9e21-4ca1-ad1f-661283c34173"
            },
            "text/plain": "StatementMeta(, , , Cancelled, )"
          },
          "metadata": {}
        }
      ],
      "metadata": {
        "jupyter": {
          "source_hidden": false,
          "outputs_hidden": false
        },
        "nteract": {
          "transient": {
            "deleting": false
          }
        }
      },
      "source": [
        "os.remove('currency_exchange_2.xlsx')"
      ]
    },
    {
      "cell_type": "code",
      "execution_count": null,
      "outputs": [],
      "metadata": {
        "jupyter": {
          "source_hidden": false,
          "outputs_hidden": false
        },
        "nteract": {
          "transient": {
            "deleting": false
          }
        }
      },
      "source": []
    }
  ]
}
